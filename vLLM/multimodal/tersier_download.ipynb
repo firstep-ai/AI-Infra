{
 "cells": [
  {
   "cell_type": "code",
   "execution_count": null,
   "id": "32b0f8ca",
   "metadata": {},
   "outputs": [],
   "source": [
    "huggingface-cli download omni-research/Tarsier-7b --local-dir tarsier-7b --local-dir-use-symlinks False"
   ]
  },
  {
   "cell_type": "code",
   "execution_count": null,
   "id": "2a925003",
   "metadata": {},
   "outputs": [],
   "source": [
    "git clone https://github.com/bytedance/tarsier.git\n",
    "cd tarsier\n",
    "git checkout 6ff716e8f9131fd8291f64db61a2d2baac91d8ef\n",
    "!pip install -r requirements.txt\n",
    "!pip install torch==2.1.0 torchvision==0.16.0 torchaudio==2.1.0 --index-url https://download.pytorch.org/whl/cu121\n",
    "!pip install https://github.com/Dao-AILab/flash-attention/releases/download/v2.5.7/flash_attn-2.5.7+cu122torch2.1cxx11abiFALSE-cp39-cp39-linux_x86_64.whl"
   ]
  }
 ],
 "metadata": {
  "language_info": {
   "name": "python"
  }
 },
 "nbformat": 4,
 "nbformat_minor": 5
}
