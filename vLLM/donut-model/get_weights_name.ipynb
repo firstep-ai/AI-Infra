{
 "cells": [
  {
   "cell_type": "markdown",
   "id": "b6ec4d7a",
   "metadata": {},
   "source": [
    "# 获得权重文件的文件名"
   ]
  },
  {
   "cell_type": "code",
   "execution_count": 4,
   "id": "a42191cd",
   "metadata": {},
   "outputs": [
    {
     "name": "stdout",
     "output_type": "stream",
     "text": [
      "找到以下文件进行处理: ['dolphin_model/model.safetensors']\n",
      "正在读取文件: dolphin_model/model.safetensors ...\n",
      "\n",
      "成功！所有 640 个权重名称已保存到: dolphin_weight_names.txt\n"
     ]
    }
   ],
   "source": [
    "import os\n",
    "import glob\n",
    "from safetensors import safe_open\n",
    "\n",
    "# --- 配置 ---\n",
    "# 设置你的模型文件或文件夹路径\n",
    "# 如果是单个文件，直接写文件路径，例如: \"path/to/your/model.safetensors\"\n",
    "# 如果是文件夹 (包含多个分片文件)，写文件夹路径，例如: \"/path/to/your/model_directory/\"\n",
    "model_path = \"dolphin_model/model.safetensors\" # <--- 修改这里\n",
    "\n",
    "# 输出文件名\n",
    "output_file = \"dolphin_weight_names.txt\"\n",
    "# --- 配置结束 ---\n",
    "\n",
    "all_weight_names = []\n",
    "\n",
    "if os.path.isfile(model_path):\n",
    "    # 处理单个文件的情况\n",
    "    files_to_process = [model_path]\n",
    "elif os.path.isdir(model_path):\n",
    "    # 处理文件夹的情况 (查找所有 .safetensors 文件)\n",
    "    files_to_process = glob.glob(os.path.join(model_path, \"*.safetensors\"))\n",
    "else:\n",
    "    print(f\"错误：路径 '{model_path}' 不是一个有效的文件或目录。\")\n",
    "    files_to_process = []\n",
    "\n",
    "if not files_to_process:\n",
    "    print(\"错误：在指定路径下没有找到 .safetensors 文件。\")\n",
    "else:\n",
    "    print(f\"找到以下文件进行处理: {files_to_process}\")\n",
    "    # 遍历所有找到的文件\n",
    "    for filepath in files_to_process:\n",
    "        print(f\"正在读取文件: {filepath} ...\")\n",
    "        with safe_open(filepath, framework=\"pt\", device=\"cpu\") as f:\n",
    "            # f.keys() 返回文件中所有张量(权重)的名称列表\n",
    "            for key in f.keys():\n",
    "                all_weight_names.append(key)\n",
    "\n",
    "    # 将所有名称写入到输出文件\n",
    "    try:\n",
    "        with open(output_file, \"w\", encoding=\"utf-8\") as f_out:\n",
    "            for name in sorted(all_weight_names): # 排序后输出，更清晰\n",
    "                f_out.write(name + \"\\n\")\n",
    "        print(f\"\\n成功！所有 {len(all_weight_names)} 个权重名称已保存到: {output_file}\")\n",
    "    except IOError as e:\n",
    "        print(f\"\\n错误：无法写入文件 {output_file}。原因: {e}\")"
   ]
  },
  {
   "cell_type": "code",
   "execution_count": 5,
   "id": "d1f0168b",
   "metadata": {},
   "outputs": [
    {
     "name": "stdout",
     "output_type": "stream",
     "text": [
      "找到以下文件进行处理: ['donut_model/pytorch_model.bin']\n",
      "正在读取文件: donut_model/pytorch_model.bin ...\n",
      "\n",
      "成功！所有 484 个权重名称已保存到: donut_weight_names.txt\n"
     ]
    }
   ],
   "source": [
    "import os\n",
    "import glob\n",
    "import torch  # <-- 导入 torch 库\n",
    "\n",
    "# --- 配置 ---\n",
    "# 设置你的模型文件或文件夹路径\n",
    "# 如果是单个文件，例如: \"path/to/your/pytorch_model.bin\"\n",
    "# 如果是文件夹 (包含多个分片文件)，例如: \"/path/to/your/model_directory/\"\n",
    "model_path = \"donut_model/pytorch_model.bin\" # <--- 修改这里\n",
    "\n",
    "# 输出文件名\n",
    "output_file = \"donut_weight_names.txt\"\n",
    "# --- 配置结束 ---\n",
    "\n",
    "all_weight_names = []\n",
    "\n",
    "if os.path.isfile(model_path):\n",
    "    # 处理单个文件的情况\n",
    "    files_to_process = [model_path]\n",
    "elif os.path.isdir(model_path):\n",
    "    # 处理文件夹的情况 (查找所有 .bin 文件)\n",
    "    files_to_process = glob.glob(os.path.join(model_path, \"*.bin\"))\n",
    "else:\n",
    "    print(f\"错误：路径 '{model_path}' 不是一个有效的文件或目录。\")\n",
    "    files_to_process = []\n",
    "\n",
    "if not files_to_process:\n",
    "    print(\"错误：在指定路径下没有找到 .bin 文件。\")\n",
    "else:\n",
    "    print(f\"找到以下文件进行处理: {files_to_process}\")\n",
    "    # 遍历所有找到的文件\n",
    "    for filepath in files_to_process:\n",
    "        try:\n",
    "            print(f\"正在读取文件: {filepath} ...\")\n",
    "            # --- 核心修改在这里 ---\n",
    "            # 使用 torch.load 加载 .bin 文件\n",
    "            # map_location='cpu' 确保权重加载到CPU，避免占用显存\n",
    "            state_dict = torch.load(filepath, map_location=\"cpu\")\n",
    "            \n",
    "            # state_dict 是一个字典，它的键 (keys) 就是权重的名称\n",
    "            for key in state_dict.keys():\n",
    "                all_weight_names.append(key)\n",
    "        except Exception as e:\n",
    "            print(f\"读取文件 {filepath} 时出错: {e}\")\n",
    "\n",
    "    # 将所有名称写入到输出文件\n",
    "    if all_weight_names:\n",
    "        try:\n",
    "            with open(output_file, \"w\", encoding=\"utf-8\") as f_out:\n",
    "                for name in sorted(all_weight_names): # 排序后输出，更清晰\n",
    "                    f_out.write(name + \"\\n\")\n",
    "            print(f\"\\n成功！所有 {len(all_weight_names)} 个权重名称已保存到: {output_file}\")\n",
    "        except IOError as e:\n",
    "            print(f\"\\n错误：无法写入文件 {output_file}。原因: {e}\")"
   ]
  },
  {
   "cell_type": "code",
   "execution_count": 2,
   "id": "3f55b8e4",
   "metadata": {},
   "outputs": [
    {
     "name": "stdout",
     "output_type": "stream",
     "text": [
      "Cloning into './donut_model'...\n",
      "remote: Enumerating objects: 34, done.\u001b[K\n",
      "remote: Total 34 (delta 0), reused 0 (delta 0), pack-reused 34 (from 1)\u001b[K\n",
      "Unpacking objects: 100% (34/34), 1008.46 KiB | 1.42 MiB/s, done.\n"
     ]
    }
   ],
   "source": [
    "!git clone https://huggingface.co/naver-clova-ix/donut-base ./donut_model"
   ]
  }
 ],
 "metadata": {
  "kernelspec": {
   "display_name": "dolphin",
   "language": "python",
   "name": "python3"
  },
  "language_info": {
   "codemirror_mode": {
    "name": "ipython",
    "version": 3
   },
   "file_extension": ".py",
   "mimetype": "text/x-python",
   "name": "python",
   "nbconvert_exporter": "python",
   "pygments_lexer": "ipython3",
   "version": "3.10.16"
  }
 },
 "nbformat": 4,
 "nbformat_minor": 5
}
