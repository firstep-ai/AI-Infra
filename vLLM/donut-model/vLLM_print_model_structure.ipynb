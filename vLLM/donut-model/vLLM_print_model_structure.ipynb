{
 "cells": [
  {
   "cell_type": "code",
   "execution_count": null,
   "id": "d66f81bb",
   "metadata": {},
   "outputs": [],
   "source": [
    "import os\n",
    "# 在导入 vllm 之前，设置环境变量来禁用 v1 引擎的 FlashAttention\n",
    "# 这样会回退到支持交叉注意力的旧版注意力后端\n",
    "os.environ['VLLM_USE_V1'] = '0'\n",
    "\n",
    "import torch\n",
    "from transformers import AutoConfig\n",
    "\n",
    "# 导入 vLLM 的分布式初始化工具和模型组件\n",
    "from vllm.model_executor.models.bart import BartDecoder\n",
    "from vllm.distributed import init_distributed_environment, initialize_model_parallel\n",
    "\n",
    "# 模型名称\n",
    "model_name = \"ByteDance/Dolphin\"\n",
    "\n",
    "# ---- 手动初始化一个模拟的分布式环境 ----\n",
    "# 模拟单卡环境\n",
    "world_size = 1\n",
    "rank = 0\n",
    "local_rank = 0\n",
    "master_addr = \"localhost\"\n",
    "# 确保端口未被占用\n",
    "master_port = \"29501\" \n",
    "\n",
    "init_distributed_environment(\n",
    "    world_size=world_size,\n",
    "    rank=rank,\n",
    "    local_rank=local_rank,\n",
    "    distributed_init_method=f\"tcp://{master_addr}:{master_port}\"\n",
    ")\n",
    "\n",
    "# 初始化张量并行组\n",
    "initialize_model_parallel(tensor_model_parallel_size=1)\n",
    "# -----------------------------------------\n",
    "\n",
    "\n",
    "# 现在，分布式环境和注意力后端都已设置正确\n",
    "print(\"vLLM distributed environment initialized. Creating BartDecoder with fallback attention backend...\")\n",
    "config = AutoConfig.from_pretrained(model_name, trust_remote_code=True)\n",
    "\n",
    "# 这行代码现在应该可以成功执行了\n",
    "decoder =  BartDecoder(config=config.decoder,\n",
    "                        cache_config=None,\n",
    "                        quant_config=None)\n",
    "\n",
    "print(\"\\n------ BartDecoder from vLLM (instantiated successfully) ------\")\n",
    "print(decoder)"
   ]
  }
 ],
 "metadata": {
  "language_info": {
   "name": "python"
  }
 },
 "nbformat": 4,
 "nbformat_minor": 5
}
