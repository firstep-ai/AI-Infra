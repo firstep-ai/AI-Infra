{
 "cells": [
  {
   "cell_type": "code",
   "execution_count": null,
   "id": "6e51d6b5",
   "metadata": {
    "vscode": {
     "languageId": "plaintext"
    }
   },
   "outputs": [],
   "source": [
    "!pip install pandas datasets\n",
    "!apt-get update\n",
    "!apt-get install -y libibverbs-dev librdmacm-dev"
   ]
  }
 ],
 "metadata": {
  "language_info": {
   "name": "python"
  }
 },
 "nbformat": 4,
 "nbformat_minor": 5
}
