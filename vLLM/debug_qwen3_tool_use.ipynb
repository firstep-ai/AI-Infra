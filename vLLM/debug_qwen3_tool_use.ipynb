{
 "cells": [
  {
   "cell_type": "code",
   "execution_count": null,
   "id": "da4da036",
   "metadata": {
    "vscode": {
     "languageId": "plaintext"
    }
   },
   "outputs": [],
   "source": [
    "pip install requests"
   ]
  },
  {
   "cell_type": "code",
   "execution_count": null,
   "id": "25761570",
   "metadata": {
    "vscode": {
     "languageId": "plaintext"
    }
   },
   "outputs": [],
   "source": [
    "vllm serve Qwen/Qwen2.5-Coder-32B-Instruct-GPTQ-Int4   --quantization gptq   --download-dir /models   --enable-auto-tool-choice   --tool-call-parser hermes"
   ]
  },
  {
   "cell_type": "code",
   "execution_count": null,
   "id": "e49e4d09",
   "metadata": {
    "vscode": {
     "languageId": "plaintext"
    }
   },
   "outputs": [],
   "source": [
    "import requests\n",
    "import json\n",
    "\n",
    "url = \"http://localhost:8000/v1/chat/completions\"\n",
    "headers = {'Content-Type': 'application/json'}\n",
    "data = {\n",
    "    \"model\": \"Qwen/Qwen2.5-Coder-32B-Instruct-GPTQ-Int4\",\n",
    "    \"messages\": [\n",
    "        {\n",
    "            \"role\": \"system\",\n",
    "            \"content\": \"you are helpful ai\"\n",
    "        },\n",
    "        {\n",
    "            \"role\": \"user\",\n",
    "            \"content\": \"what is the weather in seoul?\"\n",
    "        }\n",
    "    ],\n",
    "    \"stream\": False,\n",
    "    \"tool_choice\": \"auto\",\n",
    "    \"tools\": [\n",
    "        {\n",
    "            \"type\": \"function\",\n",
    "            \"function\": {\n",
    "                \"name\": \"get_weather\",\n",
    "                \"description\": \"Get the current weather in a given location\",\n",
    "                \"parameters\": {\n",
    "                    \"type\": \"object\",\n",
    "                    \"properties\": {\n",
    "                        \"location\": {\n",
    "                            \"type\": \"string\",\n",
    "                            \"description\": \"City and state, e.g., 'San Francisco, CA'\"\n",
    "                        },\n",
    "                        \"unit\": {\n",
    "                            \"type\": \"string\",\n",
    "                            \"enum\": [\n",
    "                                \"celsius\",\n",
    "                                \"fahrenheit\"\n",
    "                            ]\n",
    "                        }\n",
    "                    },\n",
    "                    \"required\": [\n",
    "                        \"location\",\n",
    "                        \"unit\"\n",
    "                    ]\n",
    "                }\n",
    "            }\n",
    "        }\n",
    "    ]\n",
    "}\n",
    "\n",
    "try:\n",
    "    response = requests.post(url, headers=headers, data=json.dumps(data))\n",
    "    response.raise_for_status()  # 如果响应状态码不是 200 OK，会抛出 HTTPError 异常\n",
    "    print(\"请求成功！\")\n",
    "    print(\"响应内容:\")\n",
    "    print(response.json())\n",
    "except requests.exceptions.RequestException as e:\n",
    "    print(f\"请求失败: {e}\")\n",
    "    if response is not None:\n",
    "        print(f\"响应状态码: {response.status_code}\")\n",
    "        print(f\"响应内容: {response.text}\")"
   ]
  },
  {
   "cell_type": "code",
   "execution_count": null,
   "id": "cf9d4422",
   "metadata": {
    "vscode": {
     "languageId": "plaintext"
    }
   },
   "outputs": [],
   "source": [
    " vllm serve Qwen/Qwen2.5-7B-Instruct --enable-auto-tool-choice   --tool-call-parser hermes"
   ]
  },
  {
   "cell_type": "code",
   "execution_count": null,
   "id": "64dcd41d",
   "metadata": {
    "vscode": {
     "languageId": "plaintext"
    }
   },
   "outputs": [],
   "source": [
    "import requests\n",
    "import json\n",
    "\n",
    "url = \"http://localhost:8000/v1/chat/completions\"\n",
    "headers = {'Content-Type': 'application/json'}\n",
    "data = {\n",
    "    \"model\": \"Qwen/Qwen2.5-7B-Instruct\",\n",
    "    \"messages\": [\n",
    "        {\n",
    "            \"role\": \"system\",\n",
    "            \"content\": \"you are helpful ai\"\n",
    "        },\n",
    "        {\n",
    "            \"role\": \"user\",\n",
    "            \"content\": \"what is the weather in seoul?\"\n",
    "        }\n",
    "    ],\n",
    "    \"stream\": False,\n",
    "    \"tool_choice\": \"auto\",\n",
    "    \"tools\": [\n",
    "        {\n",
    "            \"type\": \"function\",\n",
    "            \"function\": {\n",
    "                \"name\": \"get_weather\",\n",
    "                \"description\": \"Get the current weather in a given location\",\n",
    "                \"parameters\": {\n",
    "                    \"type\": \"object\",\n",
    "                    \"properties\": {\n",
    "                        \"location\": {\n",
    "                            \"type\": \"string\",\n",
    "                            \"description\": \"City and state, e.g., 'San Francisco, CA'\"\n",
    "                        },\n",
    "                        \"unit\": {\n",
    "                            \"type\": \"string\",\n",
    "                            \"enum\": [\n",
    "                                \"celsius\",\n",
    "                                \"fahrenheit\"\n",
    "                            ]\n",
    "                        }\n",
    "                    },\n",
    "                    \"required\": [\n",
    "                        \"location\",\n",
    "                        \"unit\"\n",
    "                    ]\n",
    "                }\n",
    "            }\n",
    "        }\n",
    "    ]\n",
    "}\n",
    "\n",
    "try:\n",
    "    response = requests.post(url, headers=headers, data=json.dumps(data))\n",
    "    response.raise_for_status()  # 如果响应状态码不是 200 OK，会抛出 HTTPError 异常\n",
    "    print(\"请求成功！\")\n",
    "    print(\"响应内容:\")\n",
    "    print(response.json())\n",
    "except requests.exceptions.RequestException as e:\n",
    "    print(f\"请求失败: {e}\")\n",
    "    if response is not None:\n",
    "        print(f\"响应状态码: {response.status_code}\")\n",
    "        print(f\"响应内容: {response.text}\")"
   ]
  }
 ],
 "metadata": {
  "language_info": {
   "name": "python"
  }
 },
 "nbformat": 4,
 "nbformat_minor": 5
}
