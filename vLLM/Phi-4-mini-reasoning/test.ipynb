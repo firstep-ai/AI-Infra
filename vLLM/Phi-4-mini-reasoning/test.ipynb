{
 "cells": [
  {
   "cell_type": "code",
   "execution_count": null,
   "id": "1661962a",
   "metadata": {},
   "outputs": [],
   "source": [
    "!vllm serve microsoft/Phi-4-mini-reasoning --enable-reasoning --reasoning-parser deepseek_r1"
   ]
  },
  {
   "cell_type": "code",
   "execution_count": null,
   "id": "5121bf3c",
   "metadata": {},
   "outputs": [],
   "source": [
    "import requests\n",
    "import json\n",
    "\n",
    "url = \"http://localhost:8000/v1/chat/completions\"\n",
    "headers = {'Content-Type': 'application/json'}\n",
    "data = {\n",
    "    \"model\": \"microsoft/Phi-4-mini-reasoning\",\n",
    "    \"messages\": [\n",
    "        {\"role\": \"system\", \"content\": \"You are Phi, a language model trained by Microsoft to help users. Your role as an assistant involves thoroughly exploring questions through a systematic thinking process before providing the final precise and accurate solutions. This requires engaging in a comprehensive cycle of analysis, summarizing, exploration, reassessment, reflection, backtracing, and iteration to develop well-considered thinking process. Please structure your response into two main sections: Thought and Solution using the specified format: <think> {Thought section} </think> {Solution section}. In the Thought section, detail your reasoning process in steps. Each step should include detailed considerations such as analysing questions, summarizing relevant findings, brainstorming new ideas, verifying the accuracy of the current steps, refining any errors, and revisiting previous steps. In the Solution section, based on various attempts, explorations, and reflections from the Thought section, systematically present the final solution that you deem correct. The Solution section should be logical, accurate, and concise and detail necessary steps needed to reach the conclusion. Now, try to solve the following question through the above guidelines:\"},\n",
    "        {\"role\": \"user\", \"content\": \"What is the derivative of x^2?\"},\n",
    "    ],\n",
    "    \"stream\": False,\n",
    "}\n",
    "\n",
    "response = requests.post(url, headers=headers, data=json.dumps(data))\n",
    "print(response.json())\n",
    "# <think> [33313, 881, 29]\n",
    "# </think> [808, 49631, 29]"
   ]
  }
 ],
 "metadata": {
  "language_info": {
   "name": "python"
  }
 },
 "nbformat": 4,
 "nbformat_minor": 5
}
