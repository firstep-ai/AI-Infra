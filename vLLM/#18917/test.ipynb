{
 "cells": [
  {
   "cell_type": "code",
   "execution_count": 15,
   "id": "172c6412-cac8-4571-97dd-b4501fbf94cd",
   "metadata": {},
   "outputs": [
    {
     "name": "stdout",
     "output_type": "stream",
     "text": [
      "请求成功！\n",
      "响应内容:\n",
      "{'id': 'chatcmpl-ec1f544327ee424e9414fdb3d975ebbf', 'object': 'chat.completion', 'created': 1748933129, 'model': 'Qwen/Qwen2.5-VL-7B-Instruct', 'choices': [{'index': 0, 'message': {'role': 'assistant', 'reasoning_content': None, 'content': 'The first image features a domestic cat, and the second image shows a male lion.', 'tool_calls': []}, 'logprobs': None, 'finish_reason': 'stop', 'stop_reason': None}], 'usage': {'prompt_tokens': 679, 'total_tokens': 697, 'completion_tokens': 18, 'prompt_tokens_details': None}, 'prompt_logprobs': None, 'kv_transfer_params': None}\n"
     ]
    }
   ],
   "source": [
    "import requests\n",
    "import json\n",
    "\n",
    "url = \"http://localhost:8000/v1/chat/completions\"\n",
    "headers = {'Content-Type': 'application/json'}\n",
    "data = {\n",
    "    \"model\": \"Qwen/Qwen2.5-VL-7B-Instruct\",\n",
    "    \"messages\": [\n",
    "        {\"role\": \"user\", \"content\": [\n",
    "        {\"type\": \"image_url\", \"image_url\": {\"url\": \"https://upload.wikimedia.org/wikipedia/commons/thumb/4/4d/Cat_November_2010-1a.jpg/500px-Cat_November_2010-1a.jpg\"}},\n",
    "        {\"type\": \"image_url\", \"image_url\": {\"url\": \"https://upload.wikimedia.org/wikipedia/commons/thumb/a/a6/020_The_lion_king_Snyggve_in_the_Serengeti_National_Park_Photo_by_Giles_Laurent.jpg/500px-020_The_lion_king_Snyggve_in_the_Serengeti_National_Park_Photo_by_Giles_Laurent.jpg\"}},\n",
    "        {\"type\": \"text\", \"text\": \"What are the animals in these images ?\"}\n",
    "    ]}\n",
    "    ],\n",
    "}\n",
    "\n",
    "try:\n",
    "    response = requests.post(url, headers=headers, data=json.dumps(data))\n",
    "    response.raise_for_status()  # 如果响应状态码不是 200 OK，会抛出 HTTPError 异常\n",
    "    print(\"请求成功！\")\n",
    "    print(\"响应内容:\")\n",
    "    print(response.json())\n",
    "except requests.exceptions.RequestException as e:\n",
    "    print(f\"请求失败: {e}\")\n",
    "    if response is not None:\n",
    "        print(f\"响应状态码: {response.status_code}\")\n",
    "        print(f\"响应内容: {response.text}\")"
   ]
  },
  {
   "cell_type": "code",
   "execution_count": null,
   "id": "7211eb8f-0ba7-4d83-a198-75f87057d090",
   "metadata": {},
   "outputs": [],
   "source": [
    "import requests\n",
    "import json\n",
    "\n",
    "url = \"http://localhost:8000/v1/chat/completions\"\n",
    "headers = {'Content-Type': 'application/json'}\n",
    "data = {\n",
    "    \"model\": \"Qwen/Qwen2.5-VL-7B-Instruct\",\n",
    "    \"messages\": [\n",
    "        {\"role\": \"user\", \"content\": [\n",
    "            {\"type\": \"text\", \"text\": \"what is  this video talking about ?\"},\n",
    "            # {\"type\": \"video_url\",\"video_url\": {\"url\": \"https://qianwen-res.oss-cn-beijing.aliyuncs.com/Qwen2-VL/space_woaudio.mp4\"}},\n",
    "\t        {\"type\": \"video_url\",\"video_url\": {\"url\": \"https://duguang-labelling.oss-cn-shanghai.aliyuncs.com/qiansun/video_ocr/videos/50221078283.mp4\"}},\n",
    "        ]\n",
    "        }\n",
    "    ],\n",
    "}\n",
    "\n",
    "try:\n",
    "    response = requests.post(url, headers=headers, data=json.dumps(data))\n",
    "    response.raise_for_status()  # 如果响应状态码不是 200 OK，会抛出 HTTPError 异常\n",
    "    print(\"请求成功！\")\n",
    "    print(\"响应内容:\")\n",
    "    print(response.json())\n",
    "except requests.exceptions.RequestException as e:\n",
    "    print(f\"请求失败: {e}\")\n",
    "    if response is not None:\n",
    "        print(f\"响应状态码: {response.status_code}\")\n",
    "        print(f\"响应内容: {response.text}\")"
   ]
  }
 ],
 "metadata": {
  "kernelspec": {
   "display_name": "Python 3 (ipykernel)",
   "language": "python",
   "name": "python3"
  },
  "language_info": {
   "codemirror_mode": {
    "name": "ipython",
    "version": 3
   },
   "file_extension": ".py",
   "mimetype": "text/x-python",
   "name": "python",
   "nbconvert_exporter": "python",
   "pygments_lexer": "ipython3",
   "version": "3.10.12"
  }
 },
 "nbformat": 4,
 "nbformat_minor": 5
}
