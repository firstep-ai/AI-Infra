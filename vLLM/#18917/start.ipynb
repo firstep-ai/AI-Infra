{
 "cells": [
  {
   "cell_type": "code",
   "execution_count": null,
   "id": "cab877a3",
   "metadata": {
    "vscode": {
     "languageId": "plaintext"
    }
   },
   "outputs": [],
   "source": [
    "git clone https://github.com/vllm-project/vllm.git\n",
    "cd vllm\n",
    "VLLM_USE_PRECOMPILED=1 pip install --editable .\n",
    "pip install pandas bitsandbytes"
   ]
  },
  {
   "cell_type": "code",
   "execution_count": null,
   "id": "a9e46a99",
   "metadata": {
    "vscode": {
     "languageId": "plaintext"
    }
   },
   "outputs": [],
   "source": [
    "VLLM_LOGGING_LEVEL=DEBUG CUDA_LAUNCH_BLOCKING=1 vllm serve Qwen/Qwen2.5-VL-7B-Instruct --gpu_memory_utilization 0.95 --enforce_eager --max-model-len 10240"
   ]
  },
  {
   "cell_type": "code",
   "execution_count": null,
   "id": "5cc402b1",
   "metadata": {
    "vscode": {
     "languageId": "plaintext"
    }
   },
   "outputs": [],
   "source": [
    "VLLM_LOGGING_LEVEL=DEBUG CUDA_LAUNCH_BLOCKING=1 vllm serve Qwen/Qwen2.5-VL-7B-Instruct --gpu_memory_utilization 0.95 --tensor-parallel-size 2 --quantization bitsandbytes --load_format bitsandbytes --enforce_eager --max-model-len 32768"
   ]
  }
 ],
 "metadata": {
  "language_info": {
   "name": "python"
  }
 },
 "nbformat": 4,
 "nbformat_minor": 5
}
