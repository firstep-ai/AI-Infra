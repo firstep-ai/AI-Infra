{
 "cells": [
  {
   "cell_type": "markdown",
   "id": "2f80f2ed",
   "metadata": {},
   "source": [
    "# 下载安装"
   ]
  },
  {
   "cell_type": "code",
   "execution_count": null,
   "id": "9c98f647",
   "metadata": {},
   "outputs": [],
   "source": [
    "!git clone https://github.com/bytedance-seed/BAGEL.git\n",
    "import os\n",
    "os.chdir('BAGEL')\n",
    "!pip install -r requirements.txt\n",
    "!pip install flash_attn\n",
    "from huggingface_hub import snapshot_download\n",
    "\n",
    "save_dir = \"models/BAGEL-7B-MoT\"\n",
    "repo_id = \"ByteDance-Seed/BAGEL-7B-MoT\"\n",
    "cache_dir = save_dir + \"/cache\"\n",
    "\n",
    "snapshot_download(cache_dir=cache_dir,\n",
    "    local_dir=save_dir,\n",
    "    repo_id=repo_id,\n",
    "    local_dir_use_symlinks=False,\n",
    "    resume_download=True,\n",
    "    allow_patterns=[\"*.json\", \"*.safetensors\", \"*.bin\", \"*.py\", \"*.md\", \"*.txt\"],\n",
    ")"
   ]
  },
  {
   "cell_type": "markdown",
   "id": "73f75765",
   "metadata": {},
   "source": [
    "# 文生文"
   ]
  },
  {
   "cell_type": "code",
   "execution_count": null,
   "id": "19881cd1",
   "metadata": {},
   "outputs": [],
   "source": [
    "!python inference.py   --task txt2txt   --prompt \"请帮我写一首关于宇宙和星辰的简短的诗。\"   --model_path \"models/BAGEL-7B-MoT\""
   ]
  },
  {
   "cell_type": "markdown",
   "id": "9bfef255",
   "metadata": {},
   "source": [
    "# 图生图"
   ]
  },
  {
   "cell_type": "code",
   "execution_count": null,
   "id": "b8156ff9",
   "metadata": {},
   "outputs": [],
   "source": [
    "!python inference.py   --task edit   --prompt \"Change her clothes to a red dress\"   --input_image \"test_images/women.jpg\"   --output_path \"women_in_red_dress.png\"   --model_path \"models/BAGEL-7B-MoT\"   --mode 1   --seed 456"
   ]
  },
  {
   "cell_type": "markdown",
   "id": "a0a58250",
   "metadata": {},
   "source": [
    "# 文生图"
   ]
  },
  {
   "cell_type": "code",
   "execution_count": null,
   "id": "e663b2fb",
   "metadata": {},
   "outputs": [],
   "source": [
    "!python inference.py   --task txt2img   --prompt \"A cute corgi wearing sunglasses, sitting on a beach, cinematic lighting\"   --output_path \"corgi_on_beach.png\"   --model_path \"models/BAGEL-7B-MoT\"   --mode 1   --seed 123"
   ]
  },
  {
   "cell_type": "markdown",
   "id": "700ffc0f",
   "metadata": {},
   "source": [
    "# 图生文"
   ]
  },
  {
   "cell_type": "code",
   "execution_count": null,
   "id": "bc422a98",
   "metadata": {},
   "outputs": [],
   "source": [
    "!python inference.py   --task img2txt   --prompt \"Can someone explain what's funny about this meme??\"   --input_image \"test_images/meme.jpg\"   --model_path \"models/BAGEL-7B-MoT\"   --mode 1"
   ]
  }
 ],
 "metadata": {
  "language_info": {
   "name": "python"
  }
 },
 "nbformat": 4,
 "nbformat_minor": 5
}
