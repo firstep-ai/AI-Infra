{
 "cells": [
  {
   "cell_type": "markdown",
   "id": "2f80f2ed",
   "metadata": {},
   "source": [
    "# 下载安装"
   ]
  },
  {
   "cell_type": "code",
   "execution_count": null,
   "id": "9c98f647",
   "metadata": {},
   "outputs": [
    {
     "name": "stdout",
     "output_type": "stream",
     "text": [
      "Cloning into 'vllm'...\n",
      "remote: Enumerating objects: 91337, done.\u001b[K\n",
      "^Cceiving objects:  13% (12057/91337), 14.92 MiB | 14.91 MiB/s\n"
     ]
    },
    {
     "ename": "FileNotFoundError",
     "evalue": "[Errno 2] No such file or directory: 'vllm'",
     "output_type": "error",
     "traceback": [
      "\u001b[31m---------------------------------------------------------------------------\u001b[39m",
      "\u001b[31mFileNotFoundError\u001b[39m                         Traceback (most recent call last)",
      "\u001b[36mCell\u001b[39m\u001b[36m \u001b[39m\u001b[32mIn[1]\u001b[39m\u001b[32m, line 3\u001b[39m\n\u001b[32m      1\u001b[39m \u001b[38;5;28;01mimport\u001b[39;00m\u001b[38;5;250m \u001b[39m\u001b[34;01mos\u001b[39;00m\n\u001b[32m      2\u001b[39m get_ipython().system(\u001b[33m'\u001b[39m\u001b[33mgit clone https://github.com/princepride/vllm\u001b[39m\u001b[33m'\u001b[39m)\n\u001b[32m----> \u001b[39m\u001b[32m3\u001b[39m \u001b[43mos\u001b[49m\u001b[43m.\u001b[49m\u001b[43mchdir\u001b[49m\u001b[43m(\u001b[49m\u001b[33;43m'\u001b[39;49m\u001b[33;43mvllm\u001b[39;49m\u001b[33;43m'\u001b[39;49m\u001b[43m)\u001b[49m\n\u001b[32m      4\u001b[39m get_ipython().system(\u001b[33m'\u001b[39m\u001b[33mVLLM_USE_PRECOMPILED=1 pip install --editable .\u001b[39m\u001b[33m'\u001b[39m)\n\u001b[32m      5\u001b[39m os.chdir(\u001b[33m'\u001b[39m\u001b[33m..\u001b[39m\u001b[33m'\u001b[39m)\n",
      "\u001b[31mFileNotFoundError\u001b[39m: [Errno 2] No such file or directory: 'vllm'"
     ]
    }
   ],
   "source": [
    "import os\n",
    "!git clone https://github.com/princepride/vllm\n",
    "os.chdir('vllm')\n",
    "!VLLM_USE_PRECOMPILED=1 pip install --editable .\n",
    "os.chdir('..')\n",
    "!git clone https://github.com/bytedance-seed/BAGEL.git\n",
    "os.chdir('BAGEL')\n",
    "!pip install -r requirements.txt\n",
    "!pip install flash_attn\n",
    "from huggingface_hub import snapshot_download\n",
    "\n",
    "local_dir = \"/workspace/BAGEL-7B-MoT\"\n",
    "repo_id = \"ByteDance-Seed/BAGEL-7B-MoT\"\n",
    "\n",
    "snapshot_download(\n",
    "    local_dir=local_dir,\n",
    "    repo_id=repo_id,\n",
    "    local_dir_use_symlinks=False,\n",
    "    resume_download=True,\n",
    ")\n",
    "\n",
    "!curl -o /workspace/BAGEL/inference.py https://raw.githubusercontent.com/firstep-ai/AI-Infra/main/vLLM/bagel-model/inference.py"
   ]
  },
  {
   "cell_type": "markdown",
   "id": "462affcf",
   "metadata": {},
   "source": [
    "`understanding_output`为`True`，生文<br/><br/>\n",
    "`understanding_output`为`False`，生图"
   ]
  },
  {
   "cell_type": "markdown",
   "id": "73f75765",
   "metadata": {},
   "source": [
    "# 文生文"
   ]
  },
  {
   "cell_type": "code",
   "execution_count": null,
   "id": "19881cd1",
   "metadata": {},
   "outputs": [],
   "source": [
    "!python inference.py   --task txt2txt   --prompt \"请帮我写一首关于宇宙和星辰的简短的诗。\"   --model_path \"/workspace/BAGEL-7B-MoT\""
   ]
  },
  {
   "cell_type": "markdown",
   "id": "9bfef255",
   "metadata": {},
   "source": [
    "# 图生图"
   ]
  },
  {
   "cell_type": "code",
   "execution_count": null,
   "id": "b8156ff9",
   "metadata": {},
   "outputs": [],
   "source": [
    "!python inference.py   --task edit   --prompt \"Change her clothes to a red dress\"   --input_image \"test_images/women.jpg\"   --output_path \"women_in_red_dress.png\"   --model_path \"/workspace/BAGEL-7B-MoT\"   --mode 1   --seed 456"
   ]
  },
  {
   "cell_type": "markdown",
   "id": "a0a58250",
   "metadata": {},
   "source": [
    "# 文生图"
   ]
  },
  {
   "cell_type": "code",
   "execution_count": null,
   "id": "e663b2fb",
   "metadata": {},
   "outputs": [],
   "source": [
    "!python inference.py   --task txt2img   --prompt \"A cute corgi wearing sunglasses, sitting on a beach, cinematic lighting\"   --output_path \"corgi_on_beach.png\"   --model_path \"/workspace/BAGEL-7B-MoT\"   --mode 1   --seed 123"
   ]
  },
  {
   "cell_type": "markdown",
   "id": "700ffc0f",
   "metadata": {},
   "source": [
    "# 图生文"
   ]
  },
  {
   "cell_type": "code",
   "execution_count": null,
   "id": "bc422a98",
   "metadata": {},
   "outputs": [],
   "source": [
    "!python inference.py   --task img2txt   --prompt \"Can someone explain what's funny about this meme??\"   --input_image \"test_images/meme.jpg\"   --model_path \"/workspace/BAGEL-7B-MoT\"   --mode 1"
   ]
  }
 ],
 "metadata": {
  "kernelspec": {
   "display_name": "base",
   "language": "python",
   "name": "python3"
  },
  "language_info": {
   "codemirror_mode": {
    "name": "ipython",
    "version": 3
   },
   "file_extension": ".py",
   "mimetype": "text/x-python",
   "name": "python",
   "nbconvert_exporter": "python",
   "pygments_lexer": "ipython3",
   "version": "3.13.2"
  }
 },
 "nbformat": 4,
 "nbformat_minor": 5
}
