{
 "cells": [
  {
   "cell_type": "code",
   "execution_count": null,
   "id": "a5fb59fe",
   "metadata": {},
   "outputs": [],
   "source": [
    "!pip install albumentations\n",
    "!pip install rasterio\n",
    "!pip install --ignore-installed blinker\n",
    "!pip install terratorch\n",
    "!python examples/offline_inference/prithvi_geospatial_mae.py --data_file=./India_900498_S2Hand.tif"
   ]
  }
 ],
 "metadata": {
  "language_info": {
   "name": "python"
  }
 },
 "nbformat": 4,
 "nbformat_minor": 5
}
