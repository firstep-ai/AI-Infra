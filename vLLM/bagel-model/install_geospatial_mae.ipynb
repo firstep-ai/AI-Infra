{
 "cells": [
  {
   "cell_type": "code",
   "execution_count": null,
   "id": "f3004de6",
   "metadata": {},
   "outputs": [],
   "source": [
    "# examples/offline_inference/prithvi_geospatial_mae.py\n",
    "\n",
    "# vllm/model_executor/models/prithvi_geospatial_mae.py"
   ]
  },
  {
   "cell_type": "code",
   "execution_count": null,
   "id": "a5fb59fe",
   "metadata": {},
   "outputs": [],
   "source": [
    "!pip install albumentations\n",
    "!pip install rasterio\n",
    "!pip install --ignore-installed blinker\n",
    "!pip install terratorch\n",
    "!python examples/offline_inference/prithvi_geospatial_mae.py --data_file=./India_900498_S2Hand.tif"
   ]
  }
 ],
 "metadata": {
  "language_info": {
   "name": "python"
  }
 },
 "nbformat": 4,
 "nbformat_minor": 5
}
