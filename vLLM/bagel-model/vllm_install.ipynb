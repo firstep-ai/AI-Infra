{
 "cells": [
  {
   "cell_type": "code",
   "execution_count": null,
   "id": "f73995c2",
   "metadata": {},
   "outputs": [],
   "source": [
    "from huggingface_hub import snapshot_download\n",
    "\n",
    "local_dir = \"BAGEL-7B-MoT\"\n",
    "repo_id = \"ByteDance-Seed/BAGEL-7B-MoT\"\n",
    "\n",
    "snapshot_download(local_dir=local_dir,\n",
    "    repo_id=repo_id,\n",
    "    local_dir_use_symlinks=False,\n",
    "    resume_download=True,\n",
    "    allow_patterns=[\"*.json\", \"*.safetensors\", \"*.bin\", \"*.py\", \"*.md\", \"*.txt\"],\n",
    ")"
   ]
  }
 ],
 "metadata": {
  "language_info": {
   "name": "python"
  }
 },
 "nbformat": 4,
 "nbformat_minor": 5
}
