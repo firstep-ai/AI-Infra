{
 "cells": [
  {
   "cell_type": "code",
   "execution_count": null,
   "id": "72aee322",
   "metadata": {},
   "outputs": [],
   "source": [
    "!python -m sglang.launch_server --model-path Qwen/Qwen3-1.7B"
   ]
  },
  {
   "cell_type": "code",
   "execution_count": null,
   "id": "bd84c2a4",
   "metadata": {},
   "outputs": [],
   "source": [
    "from openai import OpenAI\n",
    "# Set OpenAI's API key and API base to use SGLang's API server.\n",
    "openai_api_key = \"EMPTY\"\n",
    "openai_api_base = \"http://localhost:30000/v1\"\n",
    "\n",
    "client = OpenAI(\n",
    "    api_key=openai_api_key,\n",
    "    base_url=openai_api_base,\n",
    ")\n",
    "\n",
    "chat_response = client.chat.completions.create(\n",
    "    model=\"Qwen/Qwen3-1.7B\",\n",
    "    messages=[\n",
    "        {\"role\": \"user\", \"content\": \"Give me a short introduction to large language models.\"},\n",
    "    ],\n",
    "    max_tokens=32768,\n",
    "    temperature=0.6,\n",
    "    top_p=0.95,\n",
    "    extra_body={\n",
    "        \"top_k\": 20,\n",
    "    }, \n",
    ")\n",
    "print(\"Chat response:\", chat_response)"
   ]
  }
 ],
 "metadata": {
  "language_info": {
   "name": "python"
  }
 },
 "nbformat": 4,
 "nbformat_minor": 5
}
