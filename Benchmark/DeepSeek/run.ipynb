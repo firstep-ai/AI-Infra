{
 "cells": [
  {
   "cell_type": "markdown",
   "id": "4ced469a",
   "metadata": {},
   "source": [
    "### RTX A6000 测试：Qwen/Qwen3-1.7B"
   ]
  },
  {
   "cell_type": "code",
   "execution_count": null,
   "id": "2a8551f2",
   "metadata": {},
   "outputs": [],
   "source": [
    "!pip install uv\n",
    "!mkdir sglang\n",
    "!cd sglang\n",
    "!uv venv\n",
    "!source .venv/bin/activate\n",
    "!uv pip install \"sglang[all]>=0.4.9.post3\"\n",
    "!apt-get update && apt-get install -y libnuma-dev\n",
    "!pip install --upgrade \"filelock>=3.13.1\"\n",
    "!cd ..\n",
    "!mkdir vllm\n",
    "!cd vllm\n",
    "!uv venv\n",
    "!source .venv/bin/activate\n",
    "!uv pip install \"vllm>=0.10.0\""
   ]
  },
  {
   "cell_type": "code",
   "execution_count": null,
   "id": "b485c829",
   "metadata": {},
   "outputs": [],
   "source": [
    "!python -m sglang.launch_server --model-path Qwen/Qwen3-1.7B"
   ]
  },
  {
   "cell_type": "code",
   "execution_count": null,
   "id": "8d9f3055",
   "metadata": {},
   "outputs": [],
   "source": [
    "!cd sglang\n",
    "!source .venv/bin/activate\n",
    "!python -m sglang.bench_serving --backend sglang --model Qwen/Qwen3-1.7B --dataset-name random --num-prompts 1000 --random-input-len 256 --random-output-len 100 --random-range-ratio 1 --profile"
   ]
  },
  {
   "cell_type": "markdown",
   "id": "548b445c",
   "metadata": {},
   "source": [
    "```\n",
    "============ Serving Benchmark Result ============\n",
    "Backend:                                 sglang    \n",
    "Traffic request rate:                    inf       \n",
    "Max request concurrency:                 not set   \n",
    "Successful requests:                     1000      \n",
    "Benchmark duration (s):                  175.19    \n",
    "Total input tokens:                      256000    \n",
    "Total generated tokens:                  100000    \n",
    "Total generated tokens (retokenized):    99939     \n",
    "Request throughput (req/s):              5.71      \n",
    "Input token throughput (tok/s):          1461.26   \n",
    "Output token throughput (tok/s):         570.81    \n",
    "Total token throughput (tok/s):          2032.07   \n",
    "Concurrency:                             97.17     \n",
    "----------------End-to-End Latency----------------\n",
    "Mean E2E Latency (ms):                   17023.71  \n",
    "Median E2E Latency (ms):                 16988.58  \n",
    "---------------Time to First Token----------------\n",
    "Mean TTFT (ms):                          4409.82   \n",
    "Median TTFT (ms):                        4246.55   \n",
    "P99 TTFT (ms):                           7725.49   \n",
    "---------------Inter-Token Latency----------------\n",
    "Mean ITL (ms):                           127.45    \n",
    "Median ITL (ms):                         83.95     \n",
    "P95 ITL (ms):                            208.67    \n",
    "P99 ITL (ms):                            788.18    \n",
    "Max ITL (ms):                            6627.63   \n",
    "==================================================\n",
    "```"
   ]
  },
  {
   "cell_type": "code",
   "execution_count": null,
   "id": "959bd7ba",
   "metadata": {},
   "outputs": [],
   "source": [
    "!vllm serve Qwen/Qwen3-1.7B"
   ]
  },
  {
   "cell_type": "code",
   "execution_count": null,
   "id": "061fb7fb",
   "metadata": {},
   "outputs": [],
   "source": [
    "!cd vllm\n",
    "!source .venv/bin/activate\n",
    "!vllm bench serve --model Qwen/Qwen3-1.7B --num-prompts 1000 --random-input-len 256 --random-output-len 100 --ignore-eos"
   ]
  },
  {
   "cell_type": "markdown",
   "id": "596d40e4",
   "metadata": {},
   "source": [
    "```\n",
    "============ Serving Benchmark Result ============\n",
    "Successful requests:                     1000      \n",
    "Benchmark duration (s):                  21.16     \n",
    "Total input tokens:                      255191    \n",
    "Total generated tokens:                  100000    \n",
    "Request throughput (req/s):              47.26     \n",
    "Output token throughput (tok/s):         4725.63   \n",
    "Total Token throughput (tok/s):          16785.01  \n",
    "---------------Time to First Token----------------\n",
    "Mean TTFT (ms):                          9488.78   \n",
    "Median TTFT (ms):                        8711.83   \n",
    "P99 TTFT (ms):                           18559.76  \n",
    "-----Time per Output Token (excl. 1st token)------\n",
    "Mean TPOT (ms):                          47.13     \n",
    "Median TPOT (ms):                        50.22     \n",
    "P99 TPOT (ms):                           53.97     \n",
    "---------------Inter-token Latency----------------\n",
    "Mean ITL (ms):                           47.13     \n",
    "Median ITL (ms):                         28.15     \n",
    "P99 ITL (ms):                            93.13     \n",
    "==================================================\n",
    "```"
   ]
  },
  {
   "cell_type": "markdown",
   "id": "e2915245",
   "metadata": {},
   "source": [
    "### 4 * H100 SXM 测试：DeepSeek-V2.5-1210-FP8"
   ]
  },
  {
   "cell_type": "code",
   "execution_count": null,
   "id": "07c901c8",
   "metadata": {},
   "outputs": [],
   "source": [
    "!huggingface-cli download RedHatAI/DeepSeek-V2.5-1210-FP8 --local-dir deepseek --local-dir-use-symlinks False"
   ]
  },
  {
   "cell_type": "code",
   "execution_count": null,
   "id": "67c01a13",
   "metadata": {},
   "outputs": [],
   "source": [
    "!pip install uv\n",
    "!mkdir sglang\n",
    "!cd sglang\n",
    "!uv venv\n",
    "!source .venv/bin/activate\n",
    "!uv pip install \"sglang[all]>=0.4.9.post3\"\n",
    "!apt-get update && apt-get install -y libnuma-dev\n",
    "!pip install --upgrade \"filelock>=3.13.1\"\n",
    "!cd ..\n",
    "!mkdir vllm\n",
    "!cd vllm\n",
    "!uv venv\n",
    "!source .venv/bin/activate\n",
    "!uv pip install \"vllm>=0.10.0\""
   ]
  },
  {
   "cell_type": "code",
   "execution_count": null,
   "id": "bc25e5bf",
   "metadata": {},
   "outputs": [],
   "source": [
    "!python -m sglang.launch_server --model deepseek --tp 4 --enable-ep-moe"
   ]
  },
  {
   "cell_type": "code",
   "execution_count": null,
   "id": "48978bee",
   "metadata": {},
   "outputs": [],
   "source": [
    "!cd sglang\n",
    "!source .venv/bin/activate\n",
    "!python -m sglang.bench_serving --backend sglang --model deepseek --dataset-name random --num-prompts 1000 --random-input-len 256 --random-output-len 100 --random-range-ratio 1 --profile"
   ]
  },
  {
   "cell_type": "code",
   "execution_count": null,
   "id": "2c1c19ca",
   "metadata": {},
   "outputs": [],
   "source": [
    "!export VLLM_USE_DEEP_GEMM=1 \n",
    "!export VLLM_ALL2ALL_BACKEND=\"deepep_high_throughput\"\n",
    "!export VLLM_RANDOMIZE_DP_DUMMY_INPUTS=1\n",
    "!vllm serve deepseek --enforce-eager --enable-expert-parallel -tp 8"
   ]
  },
  {
   "cell_type": "code",
   "execution_count": null,
   "id": "d84ce0e8",
   "metadata": {},
   "outputs": [],
   "source": [
    "!cd vllm\n",
    "!source .venv/bin/activate\n",
    "!vllm bench serve --model deepseek --num-prompts 1000 --random-input-len 256 --random-output-len 100 --ignore-eos"
   ]
  }
 ],
 "metadata": {
  "language_info": {
   "name": "python"
  }
 },
 "nbformat": 4,
 "nbformat_minor": 5
}
