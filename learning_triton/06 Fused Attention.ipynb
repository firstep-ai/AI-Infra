{
 "cells": [
  {
   "cell_type": "code",
   "execution_count": null,
   "id": "2655132d",
   "metadata": {},
   "outputs": [],
   "source": [
    "pip install -U matplotlib pandas triton pytest"
   ]
  },
  {
   "cell_type": "markdown",
   "id": "58f35281",
   "metadata": {},
   "source": [
    "# 融合注意力\n",
    "\n",
    "这是 Triton 对 Tri Dao 的 Flash Attention v2 算法的实现（https://tridao.me/publications/flash2/flash2.pdf）\n",
    "\n",
    "致谢：OpenAI 内核团队\n",
    "\n",
    "额外致谢：\n",
    "- 原始闪存注意力论文 ( https://arxiv.org/abs/2205.14135)\n",
    "- Rabe 和 Staats ( https://arxiv.org/pdf/2112.05682v2.pdf)"
   ]
  },
  {
   "cell_type": "code",
   "execution_count": null,
   "id": "100007f3",
   "metadata": {},
   "outputs": [],
   "source": []
  }
 ],
 "metadata": {
  "language_info": {
   "name": "python"
  }
 },
 "nbformat": 4,
 "nbformat_minor": 5
}
